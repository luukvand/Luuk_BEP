{
 "cells": [
  {
   "cell_type": "code",
   "execution_count": 1,
   "metadata": {
    "collapsed": true
   },
   "outputs": [],
   "source": [
    "#INITIALISATIE\n",
    "import random as random\n",
    "import numpy as np\n",
    "import matplotlib.pyplot as plt\n",
    "from math import *"
   ]
  },
  {
   "cell_type": "code",
   "execution_count": 49,
   "metadata": {
    "collapsed": true
   },
   "outputs": [],
   "source": [
    "#EXPRESSIONS IN TERMS OF DELTA'S\n",
    "\n",
    "#Beetje omslachtig, maar als p=N bereken je Pclv(1). Om Pclv(y) te berekenen doe je\n",
    "    #LambdaRe(p=N)/LambdaRe(p=y) (Dit is geen typefout ;))\n",
    "def LambdaRe(Dpam, N, p, MM, Da, Di, Dc):\n",
    "    cx = 0\n",
    "    res = 1\n",
    "    for x in range(1,p):\n",
    "        cx = cx + ((x) in MM)\n",
    "        res = res + exp(-(Dpam + (x-1)*Da - Di*cx - Dc*(x==(N-1))))\n",
    "    LambdaR = 1./res\n",
    "    return LambdaR\n",
    "\n",
    "#T(1)\n",
    "def psiRe(Dpam, N, MM, Da, Di, Dc, k0, DGmin):\n",
    "    res = 0\n",
    "    for x in range(1,N):\n",
    "        clx = 0\n",
    "        for l in range(1,x+1):\n",
    "            clx = 0\n",
    "            for j in range(l,x+1):  \n",
    "                clx = clx + (j in MM)\n",
    "            res = res + exp((-Dpam+Da)*(l==1) - Da*(x-l+1) + Di*clx + Dc*(x==(N-1)))\n",
    "            \n",
    "    Lambda1 = LambdaRe(Dpam,N,N,MM,Da,Di,Dc)\n",
    "    psiR = (1./k0)*exp(DGmin)*res\n",
    "    psiR = psiR*Lambda1 \n",
    "    return psiR\n",
    "\n",
    "\n",
    "#Tclv(1)\n",
    "def tauRe(Dpam, N, MM, Da, Di, Dc, k0, DGmin):\n",
    "    res = 0\n",
    "    for x in range(0,N):\n",
    "        clx = 0\n",
    "        for l in range(1,x+1):\n",
    "            clx = 0\n",
    "            for j in range(l,x+1):  \n",
    "                clx = clx+ (j in MM)\n",
    "            Lambdal = LambdaRe(Dpam,N,N,MM,Da,Di,Dc)/LambdaRe(Dpam,N,l,MM,Da,Di,Dc)\n",
    "            res = res + Lambdal*exp(-((l==1)*(Dpam-Da)+(x-l+1)*Da-clx*Di-(x==N-1)*Dc))   \n",
    "            \n",
    "    tauR = (1./k0)*exp(DGmin)*res\n",
    "    return tauR\n",
    "\n",
    "\n",
    "#Tub(1)\n",
    "def tauubRe(Dpam,N,MM,Da,Di,Dc,k0,DGmin):\n",
    "    res = 0\n",
    "    for x in range(0,N):\n",
    "        c = 0\n",
    "        for l in range(1,x+1):\n",
    "            c = 0\n",
    "            for j in range(l,x+1):  \n",
    "                c = c+ (j in MM)\n",
    "            lambdal = 1-LambdaRe(Dpam,N,N,MM,Da,Di,Dc)/LambdaRe(Dpam,N,l,MM,Da,Di,Dc)\n",
    "            res = res + lambdal*exp(-((l==1)*(Dpam-Da)+(x-l+1)*Da-c*Di-(x==N-1)*Dc))   \n",
    "    \n",
    "    lambdaclv = LambdaRe(Dpam,N,N,MM,Da,Di,Dc)\n",
    "    tauR = (1./k0)*exp(DGmin)*res*lambdaclv/(1-lambdaclv)\n",
    "    return tauR"
   ]
  },
  {
   "cell_type": "code",
   "execution_count": 50,
   "metadata": {
    "collapsed": true
   },
   "outputs": [],
   "source": [
    "#CONSTANTS\n",
    "N = 21         #Position of second absorber/cleavage (Length of state space)\n",
    "\n",
    "[Dpam,Da,Di,Dc] = [3,1,8,2] #Kies je parameters. Let op, Da = Delta_C en Dc = Delta_CLV\n",
    "\n",
    "k0 = 1         #Constante in rates\n",
    "DGmin = .0     #Delta G^-"
   ]
  },
  {
   "cell_type": "code",
   "execution_count": 51,
   "metadata": {},
   "outputs": [
    {
     "name": "stdout",
     "output_type": "stream",
     "text": [
      "2\n",
      "3\n",
      "4\n",
      "5\n",
      "6\n",
      "7\n",
      "8\n",
      "9\n",
      "10\n",
      "11\n",
      "12\n",
      "13\n",
      "14\n",
      "15\n",
      "16\n",
      "17\n",
      "18\n",
      "19\n",
      "20\n"
     ]
    }
   ],
   "source": [
    "#Algemene functie\n",
    "\n",
    "Lambda = []\n",
    "psi = []\n",
    "tau = []\n",
    "tauub = []\n",
    "for x in range(2,N):  #2,N\n",
    "    print x\n",
    "    MM = [x]\n",
    "    Lambda.append(LambdaRe(Dpam, N, N, MM, Da, Di, Dc))\n",
    "    psi.append(psiRe(Dpam, N, MM, Da, Di, Dc, k0, DGmin))\n",
    "    tau.append(tauRe(Dpam, N, MM, Da, Di, Dc, k0, DGmin))\n",
    "    tauub.append(tauubRe(Dpam,N,MM,Da,Di,Dc,k0,DGmin))\n",
    "\n"
   ]
  },
  {
   "cell_type": "code",
   "execution_count": 52,
   "metadata": {},
   "outputs": [
    {
     "name": "stdout",
     "output_type": "stream",
     "text": [
      " MM           Lambda              psi              tau            tauub\n",
      "  2  0.0114386644501    20.9913924675    35.3414342481    20.8253478258\n",
      "  3  0.0304479263624    73.6397548071    90.7465110942    73.1025322382\n",
      "  4     0.0783443635    206.294558101    232.178207116    204.094345867\n",
      "  5   0.185957156342    504.341129351    551.543347816    493.558416393\n",
      "  6   0.375909773448    1030.43946666     1116.4612349    978.625767244\n",
      "  7   0.602210732467    1657.21673014    1790.18765493    1455.91286262\n",
      "  8   0.773519485374    2131.71030781    2300.55468769    1555.04075169\n",
      "  9   0.863929115147    2382.20769479    2570.12689079    1189.08791096\n",
      " 10   0.902745425075    2489.98139949    2686.16020838    668.992285542\n",
      " 11   0.917917511564    2532.73033828    2732.20624707    302.017876878\n",
      " 12   0.923628123913    2550.52612732    2751.38460268    121.378825066\n",
      " 13   0.925746859642    2561.77545134    2763.51554232    46.5921905942\n",
      " 14   0.926528746762    2578.56876665    2781.63089048    17.7999377655\n",
      " 15   0.926816719376    2619.12881413    2825.38565305    7.02554185036\n",
      " 16   0.926922703625    2727.50796859     2942.3011438    3.04112920022\n",
      " 17   0.926961699151    3021.42314782    3259.36578013    1.58692237741\n",
      " 18   0.926976045628    3820.11359241     4120.9627278      1.093597441\n",
      " 19   0.926981323514    5991.08592379    6462.92517267    1.02704473747\n",
      " 20   0.926983265155    11892.3662049    12829.0020009    1.31533539748\n"
     ]
    },
    {
     "data": {
      "image/png": "[encoded data removed]",
      "text/plain": [
       "<matplotlib.figure.Figure at 0xaa70f60>"
      ]
     },
     "metadata": {},
     "output_type": "display_data"
    }
   ],
   "source": [
    "#Plotjes maken met Pclv, Tclv, Tub\n",
    "\n",
    "row_format =\"{:>3}\" + \"{:>17}\" * 4\n",
    "print row_format.format(\"MM\", \"Lambda\", \"psi\", \"tau\", \"tauub\")\n",
    "for j in range(N-2):\n",
    "    print row_format.format(j+2, Lambda[j], psi[j], tau[j], tauub[j])\n",
    "    \n",
    "    \n",
    "xas = range(2,N)\n",
    "xlabel = ['PAM']+range(2,N)+['clv']\n",
    "title = '$\\mathcal{P,T}_{clv},\\mathcal{T}_{ub}$ as a function of the location of a single mismatch.'\n",
    "xtext = 'Location of single mismatch'\n",
    "y1text = '$\\mathcal{T}_{clv},\\mathcal{T}_{ub}$'\n",
    "y2text = '$\\mathcal{P}_{clv}$'\n",
    "\n",
    "fig, ax1 = plt.subplots()\n",
    "\n",
    "ax2 = ax1.twinx()\n",
    "ax1.plot(xas, tau, color='green',marker='s')\n",
    "ax1.plot(xas, tauub, 'p--')\n",
    "ax2.plot(xas, Lambda, 'r')\n",
    "\n",
    "ax1.set_xlabel(xtext)\n",
    "ax1.set_ylabel(y1text)\n",
    "ax2.set_ylabel(y2text, color='r')\n",
    "plt.xticks(range(1,N+1), xlabel)\n",
    "\n",
    "plt.suptitle(title)\n",
    "plt.title('($\\Delta_{PAM}, \\Delta_A, \\Delta_I, \\Delta_{clv}, \\Delta G^-$) =' + str((Dpam, Da, Di, Dc, DGmin)))\n",
    "ax1.legend(['$\\mathcal{T}_{clv}$', '$\\mathcal{T}_{ub}$'], loc=2)\n",
    "ax2.legend(['$\\mathcal{P}_{clv}$'], loc=6)\n",
    "\n",
    "#plt.savefig('..\\..\\Afbeeldingen\\SMMclv', bbox_inches = 'tight', dpi = 300)\n",
    "plt.show()\n",
    "\n"
   ]
  },
  {
   "cell_type": "code",
   "execution_count": null,
   "metadata": {
    "collapsed": true
   },
   "outputs": [],
   "source": []
  }
 ],
 "metadata": {
  "kernelspec": {
   "display_name": "Python 2",
   "language": "python",
   "name": "python2"
  },
  "language_info": {
   "codemirror_mode": {
    "name": "ipython",
    "version": 2
   },
   "file_extension": ".py",
   "mimetype": "text/x-python",
   "name": "python",
   "nbconvert_exporter": "python",
   "pygments_lexer": "ipython2",
   "version": "2.7.14"
  }
 },
 "nbformat": 4,
 "nbformat_minor": 2
}
