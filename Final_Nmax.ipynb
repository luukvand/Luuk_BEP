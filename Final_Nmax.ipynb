{
 "cells": [
  {
   "cell_type": "code",
   "execution_count": 1,
   "metadata": {
    "collapsed": true
   },
   "outputs": [],
   "source": [
    "#INITIALISATIE\n",
    "import random as random\n",
    "import numpy as np\n",
    "import matplotlib.pyplot as plt\n",
    "from math import *"
   ]
  },
  {
   "cell_type": "code",
   "execution_count": 2,
   "metadata": {
    "collapsed": true
   },
   "outputs": [],
   "source": [
    "#Make P,Q\n",
    "def MakePQ(k0, DGmin, Dpam, N, MM, Da, Di, Dc):\n",
    "    P = [0,k0*exp(-(DGmin-Dpam))]\n",
    "    for n in range(2,N):\n",
    "        if n in MM:\n",
    "            P.append(k0*exp(-(DGmin-Da+Di)))\n",
    "        else:\n",
    "            P.append(k0*exp(-(DGmin-Da)))\n",
    "    P[-1] = P[-1]*exp(-Dc)\n",
    "\n",
    "    Q = k0*exp(-DGmin)\n",
    "    \n",
    "#    print P\n",
    "#    print Q\n",
    "    return P,Q"
   ]
  },
  {
   "cell_type": "code",
   "execution_count": 3,
   "metadata": {
    "collapsed": true
   },
   "outputs": [],
   "source": [
    "#FUNCTIONS IN TERMS OF P,Q\n",
    "\n",
    "def phi(x,P,Q):\n",
    "    res = 1.\n",
    "    for j in range(1,x+1):\n",
    "        res = res*(float(Q)/P[j])\n",
    "    return res\n",
    "\n",
    "def phiD(Up,Low,P,Q):\n",
    "    res = 1.\n",
    "    for j in range(Low+1, Up+1):\n",
    "        res = res*(float(Q)/P[j])\n",
    "    return res\n",
    "\n",
    "def Lambdaf(y,N,P,Q):\n",
    "    num = 0\n",
    "    den = 0\n",
    "    for x in range(y):\n",
    "        num = num + phi(x,P,Q)\n",
    "    for xi in range(N):\n",
    "        den = den + phi(xi,P,Q)\n",
    "    res = num/den\n",
    "    return res\n",
    "\n",
    "def tauubE(N,P,Q):\n",
    "    sumT = 0\n",
    "    sumN = 0\n",
    "    for x in range(0,N):\n",
    "        sumN = sumN + phi(x,P,Q)\n",
    "        for i in range(0,x):\n",
    "            Lambdaxi = 1-Lambdaf(x-i,N,P,Q)\n",
    "            sumT = sumT + phiD(x,x-i,P,Q)*(1./P[x-i])*Lambdaxi\n",
    "    Lambda1 = 1-Lambdaf(1,N,P,Q)\n",
    "    res = sumT/(sumN*Lambda1)\n",
    "    return res"
   ]
  },
  {
   "cell_type": "code",
   "execution_count": 4,
   "metadata": {
    "collapsed": true
   },
   "outputs": [],
   "source": [
    "#CONSTANTS\n",
    "N = 21         #Length state space/ Position of second absorber/cleavage\n",
    "M = 50        #Aantal combinaties van parameters\n",
    "\n",
    "Dpam = .5       #Delta PAM\n",
    "Da = 1         #Delta C\n",
    "Di = 4         #Delta I\n",
    "Dc = 3         #Delta clv\n",
    "\n",
    "k0 = 1         #Constante in p,q\n",
    "DGmin = .0     #Delta G^-"
   ]
  },
  {
   "cell_type": "code",
   "execution_count": 5,
   "metadata": {},
   "outputs": [
    {
     "name": "stdout",
     "output_type": "stream",
     "text": [
      "0\n",
      "1\n",
      "2\n",
      "3\n",
      "4\n",
      "5\n",
      "6\n",
      "7\n",
      "8\n",
      "9\n",
      "10\n",
      "11\n",
      "12\n",
      "13\n",
      "14\n",
      "15\n",
      "16\n",
      "17\n",
      "18\n",
      "19\n",
      "20\n",
      "21\n",
      "22\n",
      "23\n",
      "24\n",
      "25\n",
      "26\n",
      "27\n",
      "28\n",
      "29\n",
      "30\n",
      "31\n",
      "32\n",
      "33\n",
      "34\n",
      "35\n",
      "36\n",
      "37\n",
      "38\n",
      "39\n",
      "40\n",
      "41\n",
      "42\n",
      "43\n",
      "44\n",
      "45\n",
      "46\n",
      "47\n",
      "48\n",
      "49\n"
     ]
    }
   ],
   "source": [
    "seed1 = [0]\n",
    "mx1 = [0]\n",
    "m1 = []\n",
    "D1 = []\n",
    "\n",
    "for n in range(M):\n",
    "    print n\n",
    "    ubtime1 = []\n",
    "    Dpam1 = np.random.randint(1,10)\n",
    "    Di = 5*random.random()+2\n",
    "    Da = .8*random.random()+.2\n",
    "    Dc = 0\n",
    "    \n",
    "    for x in range(2,N): \n",
    "        MM = [x]                                                 #For two mismatches, use MM = [x-1,x]\n",
    "        P,Q = MakePQ(k0, DGmin, Dpam1, N, MM, Da, Di, Dc)\n",
    "        ubtime1.append(tauubE(N,P,Q))\n",
    "   \n",
    "    m1.append(max(ubtime1))\n",
    "    nmax1 = ubtime1.index(max(ubtime1))+2\n",
    "    nseed1 = 1+(Di-Dpam1)/Da\n",
    "    seed1.append(nseed1)\n",
    "    mx1.append(nmax1)\n",
    "    D1.append([[Dpam1,Da,Di,Dc],nseed1,nmax1])\n",
    "    "
   ]
  },
  {
   "cell_type": "code",
   "execution_count": 6,
   "metadata": {},
   "outputs": [
    {
     "data": {
      "image/png": "[encoded data removed]",
      "text/plain": [
       "<matplotlib.figure.Figure at 0x8c10748>"
      ]
     },
     "metadata": {},
     "output_type": "display_data"
    },
    {
     "name": "stdout",
     "output_type": "stream",
     "text": [
      "50\n"
     ]
    }
   ],
   "source": [
    "#Plot di/dc vs. nmax\n",
    "frac = []\n",
    "nmax = []\n",
    "x = range(3,20)\n",
    "\n",
    "for n in range(len(D1)):\n",
    "    el = D1[n]\n",
    "    frac.append(1+el[0][2]/el[0][1])\n",
    "    nmax.append(el[2])\n",
    "    #print frac[n], nmax[n]\n",
    "    \n",
    "plt.plot(x,x, label=\"Line y=x\")\n",
    "plt.scatter(frac, nmax, color='g')\n",
    "plt.suptitle(\"Upper limit for $n_{max}$ displayed in a scatter plot\")\n",
    "subtitle = '($M, \\Delta_{clv},\\Delta G^-, k_0$) = ' + str((len(D1), Dc, DGmin, k0))\n",
    "plt.title(subtitle)\n",
    "plt.ylabel(\"$n_{max}$\")\n",
    "plt.xlabel(\"$1+\\Delta_I/\\Delta_C$\")\n",
    "plt.legend()\n",
    "plt.savefig('..\\..\\Afbeeldingen\\SingleMM\\Nmax', bbox_inches = 'tight', dpi = 300)\n",
    "plt.show()\n",
    "    \n",
    "    \n",
    "print len(D1)"
   ]
  },
  {
   "cell_type": "code",
   "execution_count": null,
   "metadata": {
    "collapsed": true
   },
   "outputs": [],
   "source": []
  }
 ],
 "metadata": {
  "kernelspec": {
   "display_name": "Python 2",
   "language": "python",
   "name": "python2"
  },
  "language_info": {
   "codemirror_mode": {
    "name": "ipython",
    "version": 2
   },
   "file_extension": ".py",
   "mimetype": "text/x-python",
   "name": "python",
   "nbconvert_exporter": "python",
   "pygments_lexer": "ipython2",
   "version": "2.7.14"
  }
 },
 "nbformat": 4,
 "nbformat_minor": 2
}
